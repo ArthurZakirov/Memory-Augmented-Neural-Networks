{
 "cells": [
  {
   "cell_type": "code",
   "execution_count": 1,
   "id": "f5a85d81",
   "metadata": {},
   "outputs": [],
   "source": [
    "import torch\n",
    "from torch.optim import Adam\n",
    "from torch.nn.utils import clip_grad_norm_\n",
    "\n",
    "from src.utils import batch_to_one_hot, CESequenceLoss\n",
    "from src.mann import NeuralTuringMachine\n",
    "\n"
   ]
  },
  {
   "cell_type": "code",
   "execution_count": 134,
   "id": "2d405db0",
   "metadata": {},
   "outputs": [],
   "source": [
    "# Hyperparams\n",
    "bs = 256\n",
    "ht = 6\n",
    "ft = 6\n",
    "num_cats = 5\n",
    "d_hidden = num_cats\n",
    "N = 4\n",
    "\n",
    "# Data\n",
    "x = torch.randint(0,num_cats-1, (bs, ht, 1))\n",
    "x_OH = batch_to_one_hot(x, num_cats)\n",
    "\n",
    "model = NeuralTuringMachine()\n",
    "optimizer = Adam(model.parameters(), lr = 0.001)\n",
    "\n"
   ]
  },
  {
   "cell_type": "code",
   "execution_count": 135,
   "id": "ffc7e75b",
   "metadata": {},
   "outputs": [
    {
     "name": "stdout",
     "output_type": "stream",
     "text": [
      "loss = 10.45910358428955\n",
      "loss = 9.353789329528809\n",
      "loss = 8.495030403137207\n",
      "loss = 7.749838829040527\n",
      "loss = 6.872945308685303\n",
      "loss = 5.709312915802002\n",
      "loss = 4.470155239105225\n",
      "loss = 2.952481508255005\n",
      "loss = 1.949126124382019\n",
      "loss = 1.43279230594635\n"
     ]
    }
   ],
   "source": [
    "for epoch in range(500):\n",
    "    y_pred = model(x_OH)\n",
    "    loss = CESequenceLoss(y_pred, x_OH)\n",
    "    loss.backward()\n",
    "    clip_grad_norm_(model.parameters(), 10)\n",
    "    optimizer.step()\n",
    "    optimizer.zero_grad()\n",
    "    if epoch % 50 == 0:\n",
    "        print(f'loss = {loss.detach()}')"
   ]
  }
 ],
 "metadata": {
  "kernelspec": {
   "display_name": "Python [conda env:torch] *",
   "language": "python",
   "name": "conda-env-torch-py"
  },
  "language_info": {
   "codemirror_mode": {
    "name": "ipython",
    "version": 3
   },
   "file_extension": ".py",
   "mimetype": "text/x-python",
   "name": "python",
   "nbconvert_exporter": "python",
   "pygments_lexer": "ipython3",
   "version": "3.8.8"
  }
 },
 "nbformat": 4,
 "nbformat_minor": 5
}
